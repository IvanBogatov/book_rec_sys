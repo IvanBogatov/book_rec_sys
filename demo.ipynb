{
 "cells": [
  {
   "cell_type": "code",
   "execution_count": 1,
   "metadata": {},
   "outputs": [],
   "source": [
    "import pandas as pd\n",
    "import torch\n",
    "from transformers import AutoTokenizer, AutoModel\n",
    "from sklearn.metrics.pairwise import cosine_similarity"
   ]
  },
  {
   "cell_type": "code",
   "execution_count": 2,
   "metadata": {},
   "outputs": [
    {
     "name": "stderr",
     "output_type": "stream",
     "text": [
      "Some weights of the model checkpoint at cointegrated/rubert-tiny2 were not used when initializing BertModel: ['cls.predictions.decoder.weight', 'cls.predictions.transform.dense.bias', 'cls.predictions.transform.LayerNorm.bias', 'cls.predictions.decoder.bias', 'cls.seq_relationship.weight', 'cls.seq_relationship.bias', 'cls.predictions.transform.dense.weight', 'cls.predictions.bias', 'cls.predictions.transform.LayerNorm.weight']\n",
      "- This IS expected if you are initializing BertModel from the checkpoint of a model trained on another task or with another architecture (e.g. initializing a BertForSequenceClassification model from a BertForPreTraining model).\n",
      "- This IS NOT expected if you are initializing BertModel from the checkpoint of a model that you expect to be exactly identical (initializing a BertForSequenceClassification model from a BertForSequenceClassification model).\n"
     ]
    }
   ],
   "source": [
    "tokenizer = AutoTokenizer.from_pretrained(\"cointegrated/rubert-tiny2\")\n",
    "model = AutoModel.from_pretrained(\"cointegrated/rubert-tiny2\")"
   ]
  },
  {
   "cell_type": "code",
   "execution_count": 2,
   "metadata": {},
   "outputs": [],
   "source": [
    "df = pd.read_csv('data_collection/data/database.csv')"
   ]
  },
  {
   "cell_type": "code",
   "execution_count": 3,
   "metadata": {},
   "outputs": [
    {
     "data": {
      "text/plain": [
       "(43466, 10)"
      ]
     },
     "execution_count": 3,
     "metadata": {},
     "output_type": "execute_result"
    }
   ],
   "source": [
    "df.shape"
   ]
  },
  {
   "cell_type": "code",
   "execution_count": 4,
   "metadata": {},
   "outputs": [],
   "source": [
    "tokenized = df['annotation'].apply(lambda x: tokenizer(x, padding=True, truncation=True, return_tensors='pt'))"
   ]
  },
  {
   "cell_type": "code",
   "execution_count": 5,
   "metadata": {},
   "outputs": [],
   "source": [
    "vector_list = []\n",
    "with torch.inference_mode():\n",
    "    for i in range(tokenized.shape[0]):\n",
    "        model_output = model(**{k: v for k, v in tokenized[i].items()})\n",
    "        \n",
    "        embeddings = model_output.last_hidden_state[:, 0, :]\n",
    "        vector = torch.nn.functional.normalize(embeddings)[0].cpu().numpy()\n",
    "        vector_list.append(vector)\n",
    "        \n",
    "vec_df = pd.DataFrame(vector_list)\n",
    "vec_df.to_csv('vec_df.csv')"
   ]
  },
  {
   "cell_type": "code",
   "execution_count": 6,
   "metadata": {},
   "outputs": [],
   "source": [
    "def embed_bert_cls(text, model, tokenizer):\n",
    "    t = tokenizer(text, padding=True, truncation=True, return_tensors='pt')\n",
    "    with torch.no_grad():\n",
    "        model_output = model(**{k: v.to(model.device) for k, v in t.items()})\n",
    "    embeddings = model_output.last_hidden_state[:, 0, :]\n",
    "    embeddings = torch.nn.functional.normalize(embeddings)\n",
    "    return embeddings[0].cpu().numpy()"
   ]
  },
  {
   "cell_type": "code",
   "execution_count": 7,
   "metadata": {},
   "outputs": [],
   "source": [
    "def recommend(user_query, top_n, model, tokenizer, vec_df, df):\n",
    "\n",
    "    test_vec = embed_bert_cls(user_query, model, tokenizer)\n",
    "    ret=cosine_similarity(vec_df, pd.DataFrame(test_vec).transpose())\n",
    "    ret_df = pd.DataFrame(ret)\n",
    "    ret_index = ret_df.sort_values(by=0, ascending=False).head(top_n).index\n",
    "    result = df.iloc[ret_index].copy() #.to_dict()\n",
    "    \n",
    "    return result, ret_index.to_list()"
   ]
  },
  {
   "cell_type": "code",
   "execution_count": 8,
   "metadata": {},
   "outputs": [
    {
     "name": "stdout",
     "output_type": "stream",
     "text": [
      "Автор: Шолохов М.А. \n",
      " Название: Они сражались за Родину \n",
      " Аннотация: Роман выдающегося мастера литературы посвящен героическому подвигу советского народа в Великой Отечественной войне. В нем рассказано о нескольких днях жестоких боев, когда под непрерывными бомбежками и танковыми атаками фашистов стояла насмерть горсточка храбрецов. Эти люди — ярких характеров, разные по профессии, возрасту, темпераменту и национальности — в коротких передышках между боями говорят о войне и ее уроках, с юмором и подначками вспоминают мирную жизнь… В книгу также вошли рассказы «Судьба человека», «Наука ненависти» и очерки военных лет. \n",
      "\n",
      "\n",
      "Автор: Тёрнер Д. Т. \n",
      " Название: Как Жить и в Мире, и в Эфире \n",
      " Аннотация: Художественная литература.Захватывающий роман. \n",
      "\n",
      "\n",
      "Автор: Толстой  Л.Н. \n",
      " Название: Война и мир. Том 4 \n",
      " Аннотация: Роман \"Война и мир\" по глубине и охвату событий до сих пор стоит на первом месте во всей мировой литературе. Все жизненные перипетии героев, происходящие на фоне исторических событий, произошедших в начале ХIХ века с Россией, на фоне кровавых событий войны 1812 года, обретают емкий философский смысл. \n",
      "\n",
      "\n"
     ]
    }
   ],
   "source": [
    "query = 'историческая проза войны сражения герои'\n",
    "output, ind = recommend(query, 3, model, tokenizer, vec_df, df)\n",
    "\n",
    "for i in ind:\n",
    "    print(\"Автор:\", output['author'][i],'\\n', \"Название:\", output['title'][i],'\\n', \"Аннотация:\", output['annotation'][i], '\\n\\n')"
   ]
  }
 ],
 "metadata": {
  "kernelspec": {
   "display_name": ".venvrs",
   "language": "python",
   "name": "python3"
  },
  "language_info": {
   "codemirror_mode": {
    "name": "ipython",
    "version": 3
   },
   "file_extension": ".py",
   "mimetype": "text/x-python",
   "name": "python",
   "nbconvert_exporter": "python",
   "pygments_lexer": "ipython3",
   "version": "3.10.8"
  },
  "orig_nbformat": 4
 },
 "nbformat": 4,
 "nbformat_minor": 2
}
